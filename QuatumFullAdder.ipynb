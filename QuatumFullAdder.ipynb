{
  "nbformat": 4,
  "nbformat_minor": 0,
  "metadata": {
    "colab": {
      "name": "QuatumFullAdder.ipynb",
      "provenance": [],
      "collapsed_sections": []
    },
    "kernelspec": {
      "name": "python3",
      "display_name": "Python 3"
    }
  },
  "cells": [
    {
      "cell_type": "code",
      "metadata": {
        "id": "ifD5CL6bE1ZN",
        "colab_type": "code",
        "colab": {
          "base_uri": "https://localhost:8080/",
          "height": 1000
        },
        "outputId": "8e6faa34-eaa6-443e-9772-97d76ce197e1"
      },
      "source": [
        "!pip install qiskit\n",
        "from qiskit import Aer, execute, QuantumCircuit\n",
        "from qiskit.visualization import plot_histogram"
      ],
      "execution_count": 2,
      "outputs": [
        {
          "output_type": "stream",
          "text": [
            "Collecting qiskit\n",
            "  Downloading https://files.pythonhosted.org/packages/60/ac/bb82ae1ad427023368147343c4e24a0f33c02f79098f089d76cafce8348e/qiskit-0.20.0.tar.gz\n",
            "Collecting qiskit-terra==0.15.1\n",
            "\u001b[?25l  Downloading https://files.pythonhosted.org/packages/82/de/3fa11306015106790d4cbd9da8df4f890e2605b19365c1c2b5ef206fe845/qiskit_terra-0.15.1-cp36-cp36m-manylinux2010_x86_64.whl (8.3MB)\n",
            "\u001b[K     |████████████████████████████████| 8.3MB 4.4MB/s \n",
            "\u001b[?25hCollecting qiskit-aer==0.6.1\n",
            "\u001b[?25l  Downloading https://files.pythonhosted.org/packages/e8/76/3a52f423f9ac5adbc4353105e21b5dae3d4f8729f9baa4c6788aa7fff33c/qiskit_aer-0.6.1-cp36-cp36m-manylinux2010_x86_64.whl (16.5MB)\n",
            "\u001b[K     |████████████████████████████████| 16.5MB 202kB/s \n",
            "\u001b[?25hCollecting qiskit-ibmq-provider==0.8.0\n",
            "\u001b[?25l  Downloading https://files.pythonhosted.org/packages/26/b1/4f0bdde330136f74c84b7313c36109e4c61062321df0e5252852bf123618/qiskit_ibmq_provider-0.8.0-py3-none-any.whl (161kB)\n",
            "\u001b[K     |████████████████████████████████| 163kB 47.7MB/s \n",
            "\u001b[?25hCollecting qiskit-ignis==0.4.0\n",
            "\u001b[?25l  Downloading https://files.pythonhosted.org/packages/d9/46/cad273535d470ed85378abcc757b1a26aa082dff91c8e273b212399c75ed/qiskit_ignis-0.4.0-py3-none-any.whl (172kB)\n",
            "\u001b[K     |████████████████████████████████| 174kB 48.4MB/s \n",
            "\u001b[?25hCollecting qiskit-aqua==0.7.5\n",
            "\u001b[?25l  Downloading https://files.pythonhosted.org/packages/80/86/3ba6bcfa241563c8ea82c2f48f2a9157d5b7e268896969ab49ca761b857e/qiskit_aqua-0.7.5-py3-none-any.whl (1.9MB)\n",
            "\u001b[K     |████████████████████████████████| 1.9MB 45.8MB/s \n",
            "\u001b[?25hRequirement already satisfied: scipy>=1.4 in /usr/local/lib/python3.6/dist-packages (from qiskit-terra==0.15.1->qiskit) (1.4.1)\n",
            "Requirement already satisfied: python-dateutil>=2.8.0 in /usr/local/lib/python3.6/dist-packages (from qiskit-terra==0.15.1->qiskit) (2.8.1)\n",
            "Requirement already satisfied: psutil>=5 in /usr/local/lib/python3.6/dist-packages (from qiskit-terra==0.15.1->qiskit) (5.4.8)\n",
            "Requirement already satisfied: numpy>=1.17 in /usr/local/lib/python3.6/dist-packages (from qiskit-terra==0.15.1->qiskit) (1.18.5)\n",
            "Requirement already satisfied: jsonschema>=2.6 in /usr/local/lib/python3.6/dist-packages (from qiskit-terra==0.15.1->qiskit) (2.6.0)\n",
            "Collecting sympy>=1.3\n",
            "\u001b[?25l  Downloading https://files.pythonhosted.org/packages/e0/1f/8cbbf698e853019ac3dc5d60ca8f6be4ace4542b2f05f7b62949617fc98e/sympy-1.6.2-py3-none-any.whl (5.8MB)\n",
            "\u001b[K     |████████████████████████████████| 5.8MB 34.3MB/s \n",
            "\u001b[?25hRequirement already satisfied: dill>=0.3 in /usr/local/lib/python3.6/dist-packages (from qiskit-terra==0.15.1->qiskit) (0.3.2)\n",
            "Collecting contextvars>=2.4; python_version < \"3.7\"\n",
            "  Downloading https://files.pythonhosted.org/packages/83/96/55b82d9f13763be9d672622e1b8106c85acb83edd7cc2fa5bc67cd9877e9/contextvars-2.4.tar.gz\n",
            "Collecting python-constraint>=1.4\n",
            "  Downloading https://files.pythonhosted.org/packages/37/8b/5f1bc2734ca611943e1d6733ee244238679f6410a10cd45ede55a61a8402/python-constraint-1.4.0.tar.bz2\n",
            "Requirement already satisfied: networkx>=2.2; python_version > \"3.5\" in /usr/local/lib/python3.6/dist-packages (from qiskit-terra==0.15.1->qiskit) (2.5)\n",
            "Collecting fastjsonschema>=2.10\n",
            "  Downloading https://files.pythonhosted.org/packages/c7/47/e860ab658dc2da844e6fdb76b12f6b3e14fbcb62fdd04f3e1c572bca20e1/fastjsonschema-2.14.5-py3-none-any.whl\n",
            "Collecting ply>=3.10\n",
            "\u001b[?25l  Downloading https://files.pythonhosted.org/packages/a3/58/35da89ee790598a0700ea49b2a66594140f44dec458c07e8e3d4979137fc/ply-3.11-py2.py3-none-any.whl (49kB)\n",
            "\u001b[K     |████████████████████████████████| 51kB 6.2MB/s \n",
            "\u001b[?25hCollecting retworkx>=0.4.0\n",
            "\u001b[?25l  Downloading https://files.pythonhosted.org/packages/6c/80/d8b6add5142ed20ad822b2cadb30bb3cfe57e34ff73a0b56cf75e8343c71/retworkx-0.4.0-cp36-cp36m-manylinux2010_x86_64.whl (956kB)\n",
            "\u001b[K     |████████████████████████████████| 962kB 41.1MB/s \n",
            "\u001b[?25hRequirement already satisfied: cython>=0.27.1 in /usr/local/lib/python3.6/dist-packages (from qiskit-aer==0.6.1->qiskit) (0.29.21)\n",
            "Collecting pybind11>=2.4\n",
            "\u001b[?25l  Downloading https://files.pythonhosted.org/packages/89/e3/d576f6f02bc75bacbc3d42494e8f1d063c95617d86648dba243c2cb3963e/pybind11-2.5.0-py2.py3-none-any.whl (296kB)\n",
            "\u001b[K     |████████████████████████████████| 296kB 42.7MB/s \n",
            "\u001b[?25hCollecting nest-asyncio!=1.1.0,>=1.0.0\n",
            "  Downloading https://files.pythonhosted.org/packages/a0/44/f2983c5be9803b08f89380229997e92c4bdd7a4a510ccee565b599d1bdc8/nest_asyncio-1.4.0-py3-none-any.whl\n",
            "Collecting requests-ntlm>=1.1.0\n",
            "  Downloading https://files.pythonhosted.org/packages/03/4b/8b9a1afde8072c4d5710d9fa91433d504325821b038e00237dc8d6d833dc/requests_ntlm-1.1.0-py2.py3-none-any.whl\n",
            "Requirement already satisfied: urllib3>=1.21.1 in /usr/local/lib/python3.6/dist-packages (from qiskit-ibmq-provider==0.8.0->qiskit) (1.24.3)\n",
            "Requirement already satisfied: requests>=2.19 in /usr/local/lib/python3.6/dist-packages (from qiskit-ibmq-provider==0.8.0->qiskit) (2.23.0)\n",
            "Collecting websockets<8,>=7; python_version <= \"3.6\"\n",
            "\u001b[?25l  Downloading https://files.pythonhosted.org/packages/43/71/8bfa882b9c502c36e5c9ef6732969533670d2b039cbf95a82ced8f762b80/websockets-7.0-cp36-cp36m-manylinux1_x86_64.whl (63kB)\n",
            "\u001b[K     |████████████████████████████████| 71kB 9.6MB/s \n",
            "\u001b[?25hRequirement already satisfied: scikit-learn>=0.17 in /usr/local/lib/python3.6/dist-packages (from qiskit-ignis==0.4.0->qiskit) (0.22.2.post1)\n",
            "Requirement already satisfied: setuptools>=40.1.0 in /usr/local/lib/python3.6/dist-packages (from qiskit-ignis==0.4.0->qiskit) (49.6.0)\n",
            "Collecting dlx\n",
            "  Downloading https://files.pythonhosted.org/packages/54/c0/b8fb5bb727e983b6f5251433ef941b48f38c65bb0bd6ec509e9185bcd406/dlx-1.0.4.tar.gz\n",
            "Requirement already satisfied: h5py in /usr/local/lib/python3.6/dist-packages (from qiskit-aqua==0.7.5->qiskit) (2.10.0)\n",
            "Collecting quandl\n",
            "  Downloading https://files.pythonhosted.org/packages/1b/29/185269dbd2e2698c8098b35c52ce73a2c52cf76163e709f9f7789d03ebbb/Quandl-3.5.2-py2.py3-none-any.whl\n",
            "Collecting docplex\n",
            "\u001b[?25l  Downloading https://files.pythonhosted.org/packages/9b/76/ebf5b75a25c4357c9a4758cae7fea778dd7f282b83c2f22e150dc7e3c852/docplex-2.15.194.tar.gz (582kB)\n",
            "\u001b[K     |████████████████████████████████| 583kB 36.7MB/s \n",
            "\u001b[?25hRequirement already satisfied: fastdtw in /usr/local/lib/python3.6/dist-packages (from qiskit-aqua==0.7.5->qiskit) (0.3.4)\n",
            "Collecting yfinance\n",
            "  Downloading https://files.pythonhosted.org/packages/c2/31/8b374a12b90def92a4e27d0fc595fc43635f395984e36a075244d98bd265/yfinance-0.1.54.tar.gz\n",
            "Requirement already satisfied: pandas in /usr/local/lib/python3.6/dist-packages (from qiskit-aqua==0.7.5->qiskit) (1.0.5)\n",
            "Requirement already satisfied: six>=1.5 in /usr/local/lib/python3.6/dist-packages (from python-dateutil>=2.8.0->qiskit-terra==0.15.1->qiskit) (1.15.0)\n",
            "Requirement already satisfied: mpmath>=0.19 in /usr/local/lib/python3.6/dist-packages (from sympy>=1.3->qiskit-terra==0.15.1->qiskit) (1.1.0)\n",
            "Collecting immutables>=0.9\n",
            "\u001b[?25l  Downloading https://files.pythonhosted.org/packages/99/e0/ea6fd4697120327d26773b5a84853f897a68e33d3f9376b00a8ff96e4f63/immutables-0.14-cp36-cp36m-manylinux1_x86_64.whl (98kB)\n",
            "\u001b[K     |████████████████████████████████| 102kB 10.8MB/s \n",
            "\u001b[?25hRequirement already satisfied: decorator>=4.3.0 in /usr/local/lib/python3.6/dist-packages (from networkx>=2.2; python_version > \"3.5\"->qiskit-terra==0.15.1->qiskit) (4.4.2)\n",
            "Collecting ntlm-auth>=1.0.2\n",
            "  Downloading https://files.pythonhosted.org/packages/ff/84/97c550164b54942b0e908c31ef09d9469f3ba4cd7332a671e2125732f63b/ntlm_auth-1.5.0-py2.py3-none-any.whl\n",
            "Collecting cryptography>=1.3\n",
            "\u001b[?25l  Downloading https://files.pythonhosted.org/packages/c0/9c/647e559a6e8be493dc2a7a5d15d26cb501ca60ec299b356f23839a673a83/cryptography-3.1-cp35-abi3-manylinux2010_x86_64.whl (2.6MB)\n",
            "\u001b[K     |████████████████████████████████| 2.6MB 42.1MB/s \n",
            "\u001b[?25hRequirement already satisfied: chardet<4,>=3.0.2 in /usr/local/lib/python3.6/dist-packages (from requests>=2.19->qiskit-ibmq-provider==0.8.0->qiskit) (3.0.4)\n",
            "Requirement already satisfied: certifi>=2017.4.17 in /usr/local/lib/python3.6/dist-packages (from requests>=2.19->qiskit-ibmq-provider==0.8.0->qiskit) (2020.6.20)\n",
            "Requirement already satisfied: idna<3,>=2.5 in /usr/local/lib/python3.6/dist-packages (from requests>=2.19->qiskit-ibmq-provider==0.8.0->qiskit) (2.10)\n",
            "Requirement already satisfied: joblib>=0.11 in /usr/local/lib/python3.6/dist-packages (from scikit-learn>=0.17->qiskit-ignis==0.4.0->qiskit) (0.16.0)\n",
            "Collecting inflection>=0.3.1\n",
            "  Downloading https://files.pythonhosted.org/packages/59/91/aa6bde563e0085a02a435aa99b49ef75b0a4b062635e606dab23ce18d720/inflection-0.5.1-py2.py3-none-any.whl\n",
            "Requirement already satisfied: more-itertools in /usr/local/lib/python3.6/dist-packages (from quandl->qiskit-aqua==0.7.5->qiskit) (8.4.0)\n",
            "Requirement already satisfied: multitasking>=0.0.7 in /usr/local/lib/python3.6/dist-packages (from yfinance->qiskit-aqua==0.7.5->qiskit) (0.0.9)\n",
            "Requirement already satisfied: pytz>=2017.2 in /usr/local/lib/python3.6/dist-packages (from pandas->qiskit-aqua==0.7.5->qiskit) (2018.9)\n",
            "Requirement already satisfied: cffi!=1.11.3,>=1.8 in /usr/local/lib/python3.6/dist-packages (from cryptography>=1.3->requests-ntlm>=1.1.0->qiskit-ibmq-provider==0.8.0->qiskit) (1.14.2)\n",
            "Requirement already satisfied: pycparser in /usr/local/lib/python3.6/dist-packages (from cffi!=1.11.3,>=1.8->cryptography>=1.3->requests-ntlm>=1.1.0->qiskit-ibmq-provider==0.8.0->qiskit) (2.20)\n",
            "Building wheels for collected packages: qiskit, contextvars, python-constraint, dlx, docplex, yfinance\n",
            "  Building wheel for qiskit (setup.py) ... \u001b[?25l\u001b[?25hdone\n",
            "  Created wheel for qiskit: filename=qiskit-0.20.0-cp36-none-any.whl size=3023 sha256=a70ae629a595fe7f16fd4bda2afeab6f1e0d342fc77525a0ad1b2ce85577c1f9\n",
            "  Stored in directory: /root/.cache/pip/wheels/72/97/19/dd8931ed9c3115e216522129025614effb4494c96aad7fea0d\n",
            "  Building wheel for contextvars (setup.py) ... \u001b[?25l\u001b[?25hdone\n",
            "  Created wheel for contextvars: filename=contextvars-2.4-cp36-none-any.whl size=7666 sha256=fdd57297896b037215156705419f150337282655fa73ff2299a775bb1f2089ef\n",
            "  Stored in directory: /root/.cache/pip/wheels/a5/7d/68/1ebae2668bda2228686e3c1cf16f2c2384cea6e9334ad5f6de\n",
            "  Building wheel for python-constraint (setup.py) ... \u001b[?25l\u001b[?25hdone\n",
            "  Created wheel for python-constraint: filename=python_constraint-1.4.0-py2.py3-none-any.whl size=24080 sha256=dbd833c568aa95220e39671fd01de7372d5d9ba255b0ec5a30da79dc414fa9aa\n",
            "  Stored in directory: /root/.cache/pip/wheels/34/31/15/7b070b25d0a549d20ce2e9fe6d727471c2c61ef904720fd40c\n",
            "  Building wheel for dlx (setup.py) ... \u001b[?25l\u001b[?25hdone\n",
            "  Created wheel for dlx: filename=dlx-1.0.4-cp36-none-any.whl size=5710 sha256=2795f17a9a92c9e2bee74110ffa298eafdf1191c4385928a39b1c58edee53c92\n",
            "  Stored in directory: /root/.cache/pip/wheels/bb/ba/15/fdd0deb104df3254912998150ba9245668db06b00af5912d1a\n",
            "  Building wheel for docplex (setup.py) ... \u001b[?25l\u001b[?25hdone\n",
            "  Created wheel for docplex: filename=docplex-2.15.194-cp36-none-any.whl size=645115 sha256=c763d18bdc73004b14739732172414a3696f25bd053564b65e06cc892ff686d7\n",
            "  Stored in directory: /root/.cache/pip/wheels/ce/fa/5d/8f4d5fed1b8edb72e453cb2ac6fb75c6776b49d7174eb70457\n",
            "  Building wheel for yfinance (setup.py) ... \u001b[?25l\u001b[?25hdone\n",
            "  Created wheel for yfinance: filename=yfinance-0.1.54-py2.py3-none-any.whl size=22409 sha256=da50bb1314bcef2211640a3e5f103e28b3895159f2cb89335d2870c01adab7d8\n",
            "  Stored in directory: /root/.cache/pip/wheels/f9/e3/5b/ec24dd2984b12d61e0abf26289746c2436a0e7844f26f2515c\n",
            "Successfully built qiskit contextvars python-constraint dlx docplex yfinance\n",
            "Installing collected packages: sympy, immutables, contextvars, python-constraint, fastjsonschema, ply, retworkx, qiskit-terra, pybind11, qiskit-aer, nest-asyncio, ntlm-auth, cryptography, requests-ntlm, websockets, qiskit-ibmq-provider, qiskit-ignis, dlx, inflection, quandl, docplex, yfinance, qiskit-aqua, qiskit\n",
            "  Found existing installation: sympy 1.1.1\n",
            "    Uninstalling sympy-1.1.1:\n",
            "      Successfully uninstalled sympy-1.1.1\n",
            "Successfully installed contextvars-2.4 cryptography-3.1 dlx-1.0.4 docplex-2.15.194 fastjsonschema-2.14.5 immutables-0.14 inflection-0.5.1 nest-asyncio-1.4.0 ntlm-auth-1.5.0 ply-3.11 pybind11-2.5.0 python-constraint-1.4.0 qiskit-0.20.0 qiskit-aer-0.6.1 qiskit-aqua-0.7.5 qiskit-ibmq-provider-0.8.0 qiskit-ignis-0.4.0 qiskit-terra-0.15.1 quandl-3.5.2 requests-ntlm-1.1.0 retworkx-0.4.0 sympy-1.6.2 websockets-7.0 yfinance-0.1.54\n"
          ],
          "name": "stdout"
        }
      ]
    },
    {
      "cell_type": "code",
      "metadata": {
        "id": "_u-n2_BXFixN",
        "colab_type": "code",
        "colab": {
          "base_uri": "https://localhost:8080/",
          "height": 331
        },
        "outputId": "1f23eab1-6947-4a6f-fa28-5be51e1351a5"
      },
      "source": [
        "#Thinking about making a full adder --\n",
        "## Three Qubit inputs - A, B and Cin\n",
        "\n",
        "half_adder1 = QuantumCircuit(7,2)\n",
        "half_adder1.barrier()\n",
        "\n",
        "\n",
        "\n",
        "\n",
        "#***************************** INPUT BELOW **********************8\n",
        "\n",
        "half_adder1.x(0)\n",
        "half_adder1.x(1)\n",
        "half_adder1.x(2)\n",
        "\n",
        "#*******************************************************************\n",
        "\n",
        "\n",
        "\n",
        "\n",
        "\n",
        "\n",
        "half_adder1.cx(0,3)\n",
        "half_adder1.cx(1,3)\n",
        "half_adder1.ccx(0,1,4)\n",
        "half_adder1.barrier()\n",
        "\n",
        "half_adder1.ccx(3,2,5)\n",
        "#4 and 5 Or in 6\n",
        "half_adder1.barrier()\n",
        "\n",
        "half_adder1.x(4)\n",
        "half_adder1.x(5)\n",
        "half_adder1.ccx(4,5,6)\n",
        "half_adder1.x(6)\n",
        "\n",
        "\n",
        "half_adder1.cx(2,3)\n",
        "half_adder1.barrier()\n",
        "half_adder1.measure(6,1)\n",
        "\n",
        "\n",
        "\n",
        "half_adder1.measure(3,0)\n",
        "\n",
        "counts = execute(half_adder1, Aer.get_backend(\"qasm_simulator\")).result().get_counts()\n",
        "plot_histogram(counts)\n"
      ],
      "execution_count": 15,
      "outputs": [
        {
          "output_type": "execute_result",
          "data": {
            "image/png": "[encoded data removed]",
            "text/plain": [
              "<Figure size 504x360 with 1 Axes>"
            ]
          },
          "metadata": {
            "tags": []
          },
          "execution_count": 15
        }
      ]
    },
    {
      "cell_type": "code",
      "metadata": {
        "id": "ksSbNJiBVQWV",
        "colab_type": "code",
        "colab": {
          "base_uri": "https://localhost:8080/",
          "height": 275
        },
        "outputId": "551059cd-5dc8-42e9-f022-dcd3bc3f7d56"
      },
      "source": [
        "half_adder1.draw()"
      ],
      "execution_count": 16,
      "outputs": [
        {
          "output_type": "execute_result",
          "data": {
            "text/html": [
              "<pre style=\"word-wrap: normal;white-space: pre;background: #fff0;line-height: 1.1;font-family: &quot;Courier New&quot;,Courier,monospace\">      ░ ┌───┐                ░       ░                 ░       \n",
              "q_0: ─░─┤ X ├──■─────────■───░───────░─────────────────░───────\n",
              "      ░ ├───┤  │         │   ░       ░                 ░       \n",
              "q_1: ─░─┤ X ├──┼────■────■───░───────░─────────────────░───────\n",
              "      ░ ├───┤  │    │    │   ░       ░                 ░       \n",
              "q_2: ─░─┤ X ├──┼────┼────┼───░───■───░───■─────────────░───────\n",
              "      ░ └───┘┌─┴─┐┌─┴─┐  │   ░   │   ░ ┌─┴─┐           ░    ┌─┐\n",
              "q_3: ─░──────┤ X ├┤ X ├──┼───░───■───░─┤ X ├───────────░────┤M├\n",
              "      ░      └───┘└───┘┌─┴─┐ ░   │   ░ ├───┤           ░    └╥┘\n",
              "q_4: ─░────────────────┤ X ├─░───┼───░─┤ X ├──■────────░─────╫─\n",
              "      ░                └───┘ ░ ┌─┴─┐ ░ ├───┤  │        ░     ║ \n",
              "q_5: ─░──────────────────────░─┤ X ├─░─┤ X ├──■────────░─────╫─\n",
              "      ░                      ░ └───┘ ░ └───┘┌─┴─┐┌───┐ ░ ┌─┐ ║ \n",
              "q_6: ─░──────────────────────░───────░──────┤ X ├┤ X ├─░─┤M├─╫─\n",
              "      ░                      ░       ░      └───┘└───┘ ░ └╥┘ ║ \n",
              "c: 2/═════════════════════════════════════════════════════╩══╩═\n",
              "                                                          1  0 </pre>"
            ],
            "text/plain": [
              "      ░ ┌───┐                ░       ░                 ░       \n",
              "q_0: ─░─┤ X ├──■─────────■───░───────░─────────────────░───────\n",
              "      ░ ├───┤  │         │   ░       ░                 ░       \n",
              "q_1: ─░─┤ X ├──┼────■────■───░───────░─────────────────░───────\n",
              "      ░ ├───┤  │    │    │   ░       ░                 ░       \n",
              "q_2: ─░─┤ X ├──┼────┼────┼───░───■───░───■─────────────░───────\n",
              "      ░ └───┘┌─┴─┐┌─┴─┐  │   ░   │   ░ ┌─┴─┐           ░    ┌─┐\n",
              "q_3: ─░──────┤ X ├┤ X ├──┼───░───■───░─┤ X ├───────────░────┤M├\n",
              "      ░      └───┘└───┘┌─┴─┐ ░   │   ░ ├───┤           ░    └╥┘\n",
              "q_4: ─░────────────────┤ X ├─░───┼───░─┤ X ├──■────────░─────╫─\n",
              "      ░                └───┘ ░ ┌─┴─┐ ░ ├───┤  │        ░     ║ \n",
              "q_5: ─░──────────────────────░─┤ X ├─░─┤ X ├──■────────░─────╫─\n",
              "      ░                      ░ └───┘ ░ └───┘┌─┴─┐┌───┐ ░ ┌─┐ ║ \n",
              "q_6: ─░──────────────────────░───────░──────┤ X ├┤ X ├─░─┤M├─╫─\n",
              "      ░                      ░       ░      └───┘└───┘ ░ └╥┘ ║ \n",
              "c: 2/═════════════════════════════════════════════════════╩══╩═\n",
              "                                                          1  0 "
            ]
          },
          "metadata": {
            "tags": []
          },
          "execution_count": 16
        }
      ]
    },
    {
      "cell_type": "markdown",
      "metadata": {
        "id": "4Rs1XlzHa9bu",
        "colab_type": "text"
      },
      "source": [
        "Above was a full-adder\n",
        "\n"
      ]
    },
    {
      "cell_type": "code",
      "metadata": {
        "id": "7beMrPNIa9NB",
        "colab_type": "code",
        "colab": {}
      },
      "source": [
        ""
      ],
      "execution_count": null,
      "outputs": []
    }
  ]
}